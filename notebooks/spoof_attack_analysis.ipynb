{
  "cells": [
    {
      "cell_type": "markdown",
      "id": "f8316d6f",
      "metadata": {},
      "source": [
        "# Spoof Attack Analysis\n"
      ]
    },
    {
      "cell_type": "code",
      "execution_count": 1,
      "id": "902c4e47",
      "metadata": {},
      "outputs": [],
      "source": [
        "import re\n",
        "from typing import Dict, Any\n",
        "\n",
        "import wandb\n",
        "import polars as pl\n",
        "import altair as alt"
      ]
    },
    {
      "cell_type": "code",
      "execution_count": 2,
      "id": "78627aac",
      "metadata": {},
      "outputs": [],
      "source": [
        "WANDB_ENTITY = \"juanbelieni-lab\"\n",
        "WANDB_PROJECT = \"watermark-spoof\"\n",
        "SWEEP_ID = \"excgqv1x\""
      ]
    },
    {
      "cell_type": "code",
      "execution_count": 3,
      "id": "84442021",
      "metadata": {},
      "outputs": [],
      "source": [
        "def parse_sweep_url(url: str):\n",
        "    m = re.search(r'wandb\\.ai/([^/]+)/([^/]+)/sweeps/([a-z0-9]+)', url)\n",
        "    if not m:\n",
        "        raise ValueError('Unrecognized sweep URL; expected .../ENTITY/PROJECT/sweeps/ID')\n",
        "    return m.group(1), m.group(2), m.group(3)\n",
        "\n",
        "def fetch_sweep_runs(entity: str, project: str, sweep_id: str) -> pl.DataFrame:\n",
        "    \"\"\"\n",
        "    Returns a DataFrame where each row is a run.\n",
        "    Columns include run metadata plus flattened `config.*` and `summary.*` fields.\n",
        "    \"\"\"\n",
        "\n",
        "    api = wandb.Api(timeout=300)\n",
        "    sw = api.sweep(f'{entity}/{project}/{sweep_id}')\n",
        "    runs = list(sw.runs)\n",
        "    records = []\n",
        "    for r in runs:\n",
        "        cfg: Dict[str, Any] = dict(getattr(r, 'config', {}) or {})\n",
        "        summ: Dict[str, Any] = dict(getattr(r, 'summary', {}) or {})\n",
        "        rec: Dict[str, Any] = {\n",
        "            'run_id': getattr(r, 'id', None),\n",
        "            'run_name': getattr(r, 'name', None),\n",
        "            'state': getattr(r, 'state', None),\n",
        "            'created_at': str(getattr(r, 'created_at', '')),\n",
        "            'entity': entity,\n",
        "            'project': project,\n",
        "            'sweep_id': sweep_id,\n",
        "        }\n",
        "\n",
        "        items = [*cfg.items(), *summ.items()]\n",
        "\n",
        "        for k, v in items:\n",
        "            rec[k] = v\n",
        "\n",
        "        records.append(rec)\n",
        "    df = pl.DataFrame(records)\n",
        "    return df\n"
      ]
    },
    {
      "cell_type": "code",
      "execution_count": 4,
      "id": "d3d9e146",
      "metadata": {},
      "outputs": [
        {
          "name": "stderr",
          "output_type": "stream",
          "text": [
            "\u001b[34m\u001b[1mwandb\u001b[0m: Currently logged in as: \u001b[33mjuanbelieni\u001b[0m (\u001b[33mjuanbelieni-lab\u001b[0m) to \u001b[32mhttps://api.wandb.ai\u001b[0m. Use \u001b[1m`wandb login --relogin`\u001b[0m to force relogin\n"
          ]
        },
        {
          "name": "stdout",
          "output_type": "stream",
          "text": [
            "Loaded 160 runs from sweep.\n"
          ]
        },
        {
          "data": {
            "text/html": [
              "<div><style>\n",
              ".dataframe > thead > tr,\n",
              ".dataframe > tbody > tr {\n",
              "  text-align: right;\n",
              "  white-space: pre-wrap;\n",
              "}\n",
              "</style>\n",
              "<small>shape: (5, 21)</small><table border=\"1\" class=\"dataframe\"><thead><tr><th>run_id</th><th>run_name</th><th>state</th><th>created_at</th><th>entity</th><th>project</th><th>sweep_id</th><th>seed</th><th>clip_c</th><th>model_id</th><th>delta_att</th><th>num_prompts</th><th>window_size</th><th>limit_samples</th><th>max_new_tokens</th><th>_runtime</th><th>_step</th><th>_timestamp</th><th>_wandb</th><th>success_rate</th><th>z_avg</th></tr><tr><td>str</td><td>str</td><td>str</td><td>str</td><td>str</td><td>str</td><td>str</td><td>i64</td><td>i64</td><td>str</td><td>f64</td><td>i64</td><td>i64</td><td>i64</td><td>i64</td><td>i64</td><td>i64</td><td>f64</td><td>object</td><td>f64</td><td>f64</td></tr></thead><tbody><tr><td>&quot;9wv71qju&quot;</td><td>&quot;distinctive-sweep-1&quot;</td><td>&quot;finished&quot;</td><td>&quot;2025-08-27T21:05:19Z&quot;</td><td>&quot;juanbelieni-lab&quot;</td><td>&quot;watermark-spoof&quot;</td><td>&quot;excgqv1x&quot;</td><td>0</td><td>2</td><td>&quot;meta-llama/Llama-3.2-3B-Instru…</td><td>2.5</td><td>100</td><td>2</td><td>100</td><td>500</td><td>72</td><td>0</td><td>1.7563e9</td><td>{&#x27;runtime&#x27;: 72}</td><td>0.14</td><td>0.653634</td></tr><tr><td>&quot;13gagesh&quot;</td><td>&quot;electric-sweep-2&quot;</td><td>&quot;finished&quot;</td><td>&quot;2025-08-27T21:07:24Z&quot;</td><td>&quot;juanbelieni-lab&quot;</td><td>&quot;watermark-spoof&quot;</td><td>&quot;excgqv1x&quot;</td><td>1</td><td>2</td><td>&quot;meta-llama/Llama-3.2-3B-Instru…</td><td>2.5</td><td>100</td><td>2</td><td>100</td><td>500</td><td>72</td><td>0</td><td>1.7563e9</td><td>{&#x27;runtime&#x27;: 72}</td><td>0.13</td><td>0.475277</td></tr><tr><td>&quot;baweqmac&quot;</td><td>&quot;honest-sweep-3&quot;</td><td>&quot;finished&quot;</td><td>&quot;2025-08-27T21:08:46Z&quot;</td><td>&quot;juanbelieni-lab&quot;</td><td>&quot;watermark-spoof&quot;</td><td>&quot;excgqv1x&quot;</td><td>2</td><td>2</td><td>&quot;meta-llama/Llama-3.2-3B-Instru…</td><td>2.5</td><td>100</td><td>2</td><td>100</td><td>500</td><td>71</td><td>0</td><td>1.7563e9</td><td>{&#x27;runtime&#x27;: 71}</td><td>0.14</td><td>0.707484</td></tr><tr><td>&quot;wqffuvhj&quot;</td><td>&quot;iconic-sweep-4&quot;</td><td>&quot;finished&quot;</td><td>&quot;2025-08-27T21:10:09Z&quot;</td><td>&quot;juanbelieni-lab&quot;</td><td>&quot;watermark-spoof&quot;</td><td>&quot;excgqv1x&quot;</td><td>3</td><td>2</td><td>&quot;meta-llama/Llama-3.2-3B-Instru…</td><td>2.5</td><td>100</td><td>2</td><td>100</td><td>500</td><td>72</td><td>0</td><td>1.7563e9</td><td>{&#x27;runtime&#x27;: 72}</td><td>0.12</td><td>0.455922</td></tr><tr><td>&quot;3rlwy1ce&quot;</td><td>&quot;breezy-sweep-5&quot;</td><td>&quot;finished&quot;</td><td>&quot;2025-08-27T21:11:32Z&quot;</td><td>&quot;juanbelieni-lab&quot;</td><td>&quot;watermark-spoof&quot;</td><td>&quot;excgqv1x&quot;</td><td>4</td><td>2</td><td>&quot;meta-llama/Llama-3.2-3B-Instru…</td><td>2.5</td><td>100</td><td>2</td><td>100</td><td>500</td><td>72</td><td>0</td><td>1.7563e9</td><td>{&#x27;runtime&#x27;: 72}</td><td>0.15</td><td>0.601399</td></tr></tbody></table></div>"
            ],
            "text/plain": [
              "shape: (5, 21)\n",
              "┌──────────┬────────────┬──────────┬────────────┬───┬───────────┬───────────┬───────────┬──────────┐\n",
              "│ run_id   ┆ run_name   ┆ state    ┆ created_at ┆ … ┆ _timestam ┆ _wandb    ┆ success_r ┆ z_avg    │\n",
              "│ ---      ┆ ---        ┆ ---      ┆ ---        ┆   ┆ p         ┆ ---       ┆ ate       ┆ ---      │\n",
              "│ str      ┆ str        ┆ str      ┆ str        ┆   ┆ ---       ┆ object    ┆ ---       ┆ f64      │\n",
              "│          ┆            ┆          ┆            ┆   ┆ f64       ┆           ┆ f64       ┆          │\n",
              "╞══════════╪════════════╪══════════╪════════════╪═══╪═══════════╪═══════════╪═══════════╪══════════╡\n",
              "│ 9wv71qju ┆ distinctiv ┆ finished ┆ 2025-08-27 ┆ … ┆ 1.7563e9  ┆ {'runtime ┆ 0.14      ┆ 0.653634 │\n",
              "│          ┆ e-sweep-1  ┆          ┆ T21:05:19Z ┆   ┆           ┆ ': 72}    ┆           ┆          │\n",
              "│ 13gagesh ┆ electric-s ┆ finished ┆ 2025-08-27 ┆ … ┆ 1.7563e9  ┆ {'runtime ┆ 0.13      ┆ 0.475277 │\n",
              "│          ┆ weep-2     ┆          ┆ T21:07:24Z ┆   ┆           ┆ ': 72}    ┆           ┆          │\n",
              "│ baweqmac ┆ honest-swe ┆ finished ┆ 2025-08-27 ┆ … ┆ 1.7563e9  ┆ {'runtime ┆ 0.14      ┆ 0.707484 │\n",
              "│          ┆ ep-3       ┆          ┆ T21:08:46Z ┆   ┆           ┆ ': 71}    ┆           ┆          │\n",
              "│ wqffuvhj ┆ iconic-swe ┆ finished ┆ 2025-08-27 ┆ … ┆ 1.7563e9  ┆ {'runtime ┆ 0.12      ┆ 0.455922 │\n",
              "│          ┆ ep-4       ┆          ┆ T21:10:09Z ┆   ┆           ┆ ': 72}    ┆           ┆          │\n",
              "│ 3rlwy1ce ┆ breezy-swe ┆ finished ┆ 2025-08-27 ┆ … ┆ 1.7563e9  ┆ {'runtime ┆ 0.15      ┆ 0.601399 │\n",
              "│          ┆ ep-5       ┆          ┆ T21:11:32Z ┆   ┆           ┆ ': 72}    ┆           ┆          │\n",
              "└──────────┴────────────┴──────────┴────────────┴───┴───────────┴───────────┴───────────┴──────────┘"
            ]
          },
          "execution_count": 4,
          "metadata": {},
          "output_type": "execute_result"
        }
      ],
      "source": [
        "# Fetch runs into a DataFrame\n",
        "runs_df = fetch_sweep_runs(WANDB_ENTITY, WANDB_PROJECT, SWEEP_ID)\n",
        "print(f'Loaded {len(runs_df)} runs from sweep.')\n",
        "runs_df.head()\n"
      ]
    },
    {
      "cell_type": "code",
      "execution_count": 12,
      "id": "9a62f48a",
      "metadata": {},
      "outputs": [
        {
          "data": {
            "text/html": [
              "\n",
              "<style>\n",
              "  #altair-viz-5363f16aad83462a8c26cad8226d082d.vega-embed {\n",
              "    width: 100%;\n",
              "    display: flex;\n",
              "  }\n",
              "\n",
              "  #altair-viz-5363f16aad83462a8c26cad8226d082d.vega-embed details,\n",
              "  #altair-viz-5363f16aad83462a8c26cad8226d082d.vega-embed details summary {\n",
              "    position: relative;\n",
              "  }\n",
              "</style>\n",
              "<div id=\"altair-viz-5363f16aad83462a8c26cad8226d082d\"></div>\n",
              "<script type=\"text/javascript\">\n",
              "  var VEGA_DEBUG = (typeof VEGA_DEBUG == \"undefined\") ? {} : VEGA_DEBUG;\n",
              "  (function(spec, embedOpt){\n",
              "    let outputDiv = document.currentScript.previousElementSibling;\n",
              "    if (outputDiv.id !== \"altair-viz-5363f16aad83462a8c26cad8226d082d\") {\n",
              "      outputDiv = document.getElementById(\"altair-viz-5363f16aad83462a8c26cad8226d082d\");\n",
              "    }\n",
              "\n",
              "    const paths = {\n",
              "      \"vega\": \"https://cdn.jsdelivr.net/npm/vega@5?noext\",\n",
              "      \"vega-lib\": \"https://cdn.jsdelivr.net/npm/vega-lib?noext\",\n",
              "      \"vega-lite\": \"https://cdn.jsdelivr.net/npm/vega-lite@5.20.1?noext\",\n",
              "      \"vega-embed\": \"https://cdn.jsdelivr.net/npm/vega-embed@6?noext\",\n",
              "    };\n",
              "\n",
              "    function maybeLoadScript(lib, version) {\n",
              "      var key = `${lib.replace(\"-\", \"\")}_version`;\n",
              "      return (VEGA_DEBUG[key] == version) ?\n",
              "        Promise.resolve(paths[lib]) :\n",
              "        new Promise(function(resolve, reject) {\n",
              "          var s = document.createElement('script');\n",
              "          document.getElementsByTagName(\"head\")[0].appendChild(s);\n",
              "          s.async = true;\n",
              "          s.onload = () => {\n",
              "            VEGA_DEBUG[key] = version;\n",
              "            return resolve(paths[lib]);\n",
              "          };\n",
              "          s.onerror = () => reject(`Error loading script: ${paths[lib]}`);\n",
              "          s.src = paths[lib];\n",
              "        });\n",
              "    }\n",
              "\n",
              "    function showError(err) {\n",
              "      outputDiv.innerHTML = `<div class=\"error\" style=\"color:red;\">${err}</div>`;\n",
              "      throw err;\n",
              "    }\n",
              "\n",
              "    function displayChart(vegaEmbed) {\n",
              "      vegaEmbed(outputDiv, spec, embedOpt)\n",
              "        .catch(err => showError(`Javascript Error: ${err.message}<br>This usually means there's a typo in your chart specification. See the javascript console for the full traceback.`));\n",
              "    }\n",
              "\n",
              "    if(typeof define === \"function\" && define.amd) {\n",
              "      requirejs.config({paths});\n",
              "      let deps = [\"vega-embed\"];\n",
              "      require(deps, displayChart, err => showError(`Error loading script: ${err.message}`));\n",
              "    } else {\n",
              "      maybeLoadScript(\"vega\", \"5\")\n",
              "        .then(() => maybeLoadScript(\"vega-lite\", \"5.20.1\"))\n",
              "        .then(() => maybeLoadScript(\"vega-embed\", \"6\"))\n",
              "        .catch(showError)\n",
              "        .then(() => displayChart(vegaEmbed));\n",
              "    }\n",
              "  })({\"config\": {\"view\": {\"continuousWidth\": 300, \"continuousHeight\": 300}}, \"data\": {\"name\": \"data-c83e4b1c6c8daa52629261e71d9fa7fc\"}, \"mark\": {\"type\": \"line\"}, \"encoding\": {\"color\": {\"field\": \"delta_att\", \"title\": \"delta_att\", \"type\": \"nominal\"}, \"x\": {\"field\": \"limit_samples\", \"type\": \"quantitative\"}, \"y\": {\"field\": \"success_rate\", \"type\": \"quantitative\"}}, \"$schema\": \"https://vega.github.io/schema/vega-lite/v5.20.1.json\", \"datasets\": {\"data-c83e4b1c6c8daa52629261e71d9fa7fc\": [{\"limit_samples\": 100, \"delta_att\": 2.5, \"success_rate\": 0.136, \"z_avg\": 0.5787433187374277}, {\"limit_samples\": 500, \"delta_att\": 2.5, \"success_rate\": 0.186, \"z_avg\": 0.719439783874767}, {\"limit_samples\": 1000, \"delta_att\": 2.5, \"success_rate\": 0.16399999999999998, \"z_avg\": 0.6818355342043481}, {\"limit_samples\": 100, \"delta_att\": 5.0, \"success_rate\": 0.352, \"z_avg\": 1.486607356619638}, {\"limit_samples\": 500, \"delta_att\": 5.0, \"success_rate\": 0.35000000000000003, \"z_avg\": 1.368281013528601}, {\"limit_samples\": 1000, \"delta_att\": 5.0, \"success_rate\": 0.35200000000000004, \"z_avg\": 1.4959383568639653}, {\"limit_samples\": 100, \"delta_att\": 7.5, \"success_rate\": 0.552, \"z_avg\": 2.5643257721716797}, {\"limit_samples\": 500, \"delta_att\": 7.5, \"success_rate\": 0.55, \"z_avg\": 2.290509901307799}, {\"limit_samples\": 1000, \"delta_att\": 7.5, \"success_rate\": 0.55, \"z_avg\": 2.317267972571752}, {\"limit_samples\": 100, \"delta_att\": 10.0, \"success_rate\": 0.662, \"z_avg\": 3.5922755383023626}, {\"limit_samples\": 500, \"delta_att\": 10.0, \"success_rate\": 0.676, \"z_avg\": 3.2661999851238113}, {\"limit_samples\": 1000, \"delta_att\": 10.0, \"success_rate\": 0.6980000000000001, \"z_avg\": 3.2070196542328566}]}}, {\"mode\": \"vega-lite\"});\n",
              "</script>"
            ],
            "text/plain": [
              "alt.Chart(...)"
            ]
          },
          "execution_count": 12,
          "metadata": {},
          "output_type": "execute_result"
        }
      ],
      "source": [
        "# Group by limit_samples and delta_att using Polars, then plot lines colored by delta_att\n",
        "agg_df = (\n",
        "    runs_df\n",
        "    .filter(pl.col(\"limit_samples\") <= 1000)\n",
        "    .group_by([\"limit_samples\", \"delta_att\"])\n",
        "    .agg(\n",
        "      pl.col(\"success_rate\").mean().alias(\"success_rate\"),\n",
        "      pl.col(\"z_avg\").mean().alias(\"z_avg\"),\n",
        "    )\n",
        "    .sort([\"delta_att\", \"limit_samples\"])\n",
        ")\n",
        "\n",
        "alt.Chart(agg_df.to_pandas()).mark_line().encode(\n",
        "    x=alt.X(\"limit_samples\", type=\"quantitative\"),\n",
        "    y=alt.Y(\"success_rate\", type=\"quantitative\"),\n",
        "    color=alt.Color(\"delta_att\", type=\"nominal\", title=\"delta_att\"),\n",
        ")"
      ]
    }
  ],
  "metadata": {
    "kernelspec": {
      "display_name": "watermark-stealing-replication",
      "language": "python",
      "name": "python3"
    },
    "language_info": {
      "codemirror_mode": {
        "name": "ipython",
        "version": 3
      },
      "file_extension": ".py",
      "mimetype": "text/x-python",
      "name": "python",
      "nbconvert_exporter": "python",
      "pygments_lexer": "ipython3",
      "version": "3.11.9"
    }
  },
  "nbformat": 4,
  "nbformat_minor": 5
}
