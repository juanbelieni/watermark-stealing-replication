{
  "cells": [
    {
      "cell_type": "markdown",
      "id": "f8316d6f",
      "metadata": {},
      "source": [
        "# Spoof Attack Analysis\n"
      ]
    },
    {
      "cell_type": "code",
      "execution_count": 2,
      "id": "902c4e47",
      "metadata": {},
      "outputs": [],
      "source": [
        "import re\n",
        "from typing import Dict, Any\n",
        "\n",
        "import wandb\n",
        "import polars as pl\n",
        "import altair as alt"
      ]
    },
    {
      "cell_type": "code",
      "execution_count": 3,
      "id": "84442021",
      "metadata": {},
      "outputs": [],
      "source": [
        "def parse_sweep_url(url: str):\n",
        "    m = re.search(r'wandb\\.ai/([^/]+)/([^/]+)/sweeps/([a-z0-9]+)', url)\n",
        "    if not m:\n",
        "        raise ValueError('Unrecognized sweep URL; expected .../ENTITY/PROJECT/sweeps/ID')\n",
        "    return m.group(1), m.group(2), m.group(3)\n",
        "\n",
        "def fetch_sweep_runs(entity: str, project: str, sweep_id: str) -> pl.DataFrame:\n",
        "    \"\"\"\n",
        "    Returns a DataFrame where each row is a run.\n",
        "    Columns include run metadata plus flattened `config.*` and `summary.*` fields.\n",
        "    \"\"\"\n",
        "\n",
        "    api = wandb.Api(timeout=300)\n",
        "    sw = api.sweep(f'{entity}/{project}/{sweep_id}')\n",
        "    runs = list(sw.runs)\n",
        "    records = []\n",
        "    for r in runs:\n",
        "        cfg: Dict[str, Any] = dict(getattr(r, 'config', {}) or {})\n",
        "        summ: Dict[str, Any] = dict(getattr(r, 'summary', {}) or {})\n",
        "        rec: Dict[str, Any] = {\n",
        "            'run_id': getattr(r, 'id', None),\n",
        "            'run_name': getattr(r, 'name', None),\n",
        "            'state': getattr(r, 'state', None),\n",
        "            'created_at': str(getattr(r, 'created_at', '')),\n",
        "            'entity': entity,\n",
        "            'project': project,\n",
        "            'sweep_id': sweep_id,\n",
        "        }\n",
        "\n",
        "        items = [*cfg.items(), *summ.items()]\n",
        "\n",
        "        for k, v in items:\n",
        "            rec[k] = v\n",
        "\n",
        "        records.append(rec)\n",
        "    df = pl.DataFrame(records)\n",
        "    return df\n"
      ]
    },
    {
      "cell_type": "code",
      "execution_count": 4,
      "id": "d3d9e146",
      "metadata": {},
      "outputs": [
        {
          "name": "stderr",
          "output_type": "stream",
          "text": [
            "\u001b[34m\u001b[1mwandb\u001b[0m: Currently logged in as: \u001b[33mjuanbelieni\u001b[0m (\u001b[33mjuanbelieni-lab\u001b[0m) to \u001b[32mhttps://api.wandb.ai\u001b[0m. Use \u001b[1m`wandb login --relogin`\u001b[0m to force relogin\n"
          ]
        },
        {
          "name": "stdout",
          "output_type": "stream",
          "text": [
            "Loaded 220 runs from sweep.\n"
          ]
        },
        {
          "data": {
            "text/html": [
              "<div><style>\n",
              ".dataframe > thead > tr,\n",
              ".dataframe > tbody > tr {\n",
              "  text-align: right;\n",
              "  white-space: pre-wrap;\n",
              "}\n",
              "</style>\n",
              "<small>shape: (5, 21)</small><table border=\"1\" class=\"dataframe\"><thead><tr><th>run_id</th><th>run_name</th><th>state</th><th>created_at</th><th>entity</th><th>project</th><th>sweep_id</th><th>seed</th><th>clip_c</th><th>model_id</th><th>delta_att</th><th>num_prompts</th><th>window_size</th><th>limit_samples</th><th>max_new_tokens</th><th>_runtime</th><th>_step</th><th>_timestamp</th><th>_wandb</th><th>success_rate</th><th>z_avg</th></tr><tr><td>str</td><td>str</td><td>str</td><td>str</td><td>str</td><td>str</td><td>str</td><td>i64</td><td>i64</td><td>str</td><td>f64</td><td>i64</td><td>i64</td><td>i64</td><td>i64</td><td>i64</td><td>i64</td><td>f64</td><td>object</td><td>f64</td><td>f64</td></tr></thead><tbody><tr><td>&quot;56x7mkfo&quot;</td><td>&quot;unique-sweep-1&quot;</td><td>&quot;finished&quot;</td><td>&quot;2025-08-29T06:59:18Z&quot;</td><td>&quot;juanbelieni-lab&quot;</td><td>&quot;watermark-spoof&quot;</td><td>&quot;phkoqagh&quot;</td><td>0</td><td>2</td><td>&quot;Qwen/Qwen2.5-3B-Instruct&quot;</td><td>2.5</td><td>100</td><td>2</td><td>5</td><td>500</td><td>61</td><td>0</td><td>1.7565e9</td><td>{&#x27;runtime&#x27;: 61}</td><td>0.06</td><td>0.092551</td></tr><tr><td>&quot;2oovukmv&quot;</td><td>&quot;proud-sweep-2&quot;</td><td>&quot;finished&quot;</td><td>&quot;2025-08-29T07:00:31Z&quot;</td><td>&quot;juanbelieni-lab&quot;</td><td>&quot;watermark-spoof&quot;</td><td>&quot;phkoqagh&quot;</td><td>1</td><td>2</td><td>&quot;Qwen/Qwen2.5-3B-Instruct&quot;</td><td>2.5</td><td>100</td><td>2</td><td>5</td><td>500</td><td>60</td><td>0</td><td>1.7565e9</td><td>{&#x27;runtime&#x27;: 60}</td><td>0.05</td><td>0.044097</td></tr><tr><td>&quot;ecioxny3&quot;</td><td>&quot;magic-sweep-3&quot;</td><td>&quot;finished&quot;</td><td>&quot;2025-08-29T07:01:38Z&quot;</td><td>&quot;juanbelieni-lab&quot;</td><td>&quot;watermark-spoof&quot;</td><td>&quot;phkoqagh&quot;</td><td>2</td><td>2</td><td>&quot;Qwen/Qwen2.5-3B-Instruct&quot;</td><td>2.5</td><td>100</td><td>2</td><td>5</td><td>500</td><td>58</td><td>0</td><td>1.7565e9</td><td>{&#x27;runtime&#x27;: 58}</td><td>0.03</td><td>0.082924</td></tr><tr><td>&quot;6z4eonph&quot;</td><td>&quot;sparkling-sweep-4&quot;</td><td>&quot;finished&quot;</td><td>&quot;2025-08-29T07:02:46Z&quot;</td><td>&quot;juanbelieni-lab&quot;</td><td>&quot;watermark-spoof&quot;</td><td>&quot;phkoqagh&quot;</td><td>3</td><td>2</td><td>&quot;Qwen/Qwen2.5-3B-Instruct&quot;</td><td>2.5</td><td>100</td><td>2</td><td>5</td><td>500</td><td>60</td><td>0</td><td>1.7565e9</td><td>{&#x27;runtime&#x27;: 60}</td><td>0.03</td><td>-0.166147</td></tr><tr><td>&quot;czyoodei&quot;</td><td>&quot;atomic-sweep-5&quot;</td><td>&quot;finished&quot;</td><td>&quot;2025-08-29T07:03:53Z&quot;</td><td>&quot;juanbelieni-lab&quot;</td><td>&quot;watermark-spoof&quot;</td><td>&quot;phkoqagh&quot;</td><td>4</td><td>2</td><td>&quot;Qwen/Qwen2.5-3B-Instruct&quot;</td><td>2.5</td><td>100</td><td>2</td><td>5</td><td>500</td><td>59</td><td>0</td><td>1.7565e9</td><td>{&#x27;runtime&#x27;: 59}</td><td>0.04</td><td>-0.051357</td></tr></tbody></table></div>"
            ],
            "text/plain": [
              "shape: (5, 21)\n",
              "┌──────────┬────────────┬──────────┬───────────┬───┬───────────┬───────────┬───────────┬───────────┐\n",
              "│ run_id   ┆ run_name   ┆ state    ┆ created_a ┆ … ┆ _timestam ┆ _wandb    ┆ success_r ┆ z_avg     │\n",
              "│ ---      ┆ ---        ┆ ---      ┆ t         ┆   ┆ p         ┆ ---       ┆ ate       ┆ ---       │\n",
              "│ str      ┆ str        ┆ str      ┆ ---       ┆   ┆ ---       ┆ object    ┆ ---       ┆ f64       │\n",
              "│          ┆            ┆          ┆ str       ┆   ┆ f64       ┆           ┆ f64       ┆           │\n",
              "╞══════════╪════════════╪══════════╪═══════════╪═══╪═══════════╪═══════════╪═══════════╪═══════════╡\n",
              "│ 56x7mkfo ┆ unique-swe ┆ finished ┆ 2025-08-2 ┆ … ┆ 1.7565e9  ┆ {'runtime ┆ 0.06      ┆ 0.092551  │\n",
              "│          ┆ ep-1       ┆          ┆ 9T06:59:1 ┆   ┆           ┆ ': 61}    ┆           ┆           │\n",
              "│          ┆            ┆          ┆ 8Z        ┆   ┆           ┆           ┆           ┆           │\n",
              "│ 2oovukmv ┆ proud-swee ┆ finished ┆ 2025-08-2 ┆ … ┆ 1.7565e9  ┆ {'runtime ┆ 0.05      ┆ 0.044097  │\n",
              "│          ┆ p-2        ┆          ┆ 9T07:00:3 ┆   ┆           ┆ ': 60}    ┆           ┆           │\n",
              "│          ┆            ┆          ┆ 1Z        ┆   ┆           ┆           ┆           ┆           │\n",
              "│ ecioxny3 ┆ magic-swee ┆ finished ┆ 2025-08-2 ┆ … ┆ 1.7565e9  ┆ {'runtime ┆ 0.03      ┆ 0.082924  │\n",
              "│          ┆ p-3        ┆          ┆ 9T07:01:3 ┆   ┆           ┆ ': 58}    ┆           ┆           │\n",
              "│          ┆            ┆          ┆ 8Z        ┆   ┆           ┆           ┆           ┆           │\n",
              "│ 6z4eonph ┆ sparkling- ┆ finished ┆ 2025-08-2 ┆ … ┆ 1.7565e9  ┆ {'runtime ┆ 0.03      ┆ -0.166147 │\n",
              "│          ┆ sweep-4    ┆          ┆ 9T07:02:4 ┆   ┆           ┆ ': 60}    ┆           ┆           │\n",
              "│          ┆            ┆          ┆ 6Z        ┆   ┆           ┆           ┆           ┆           │\n",
              "│ czyoodei ┆ atomic-swe ┆ finished ┆ 2025-08-2 ┆ … ┆ 1.7565e9  ┆ {'runtime ┆ 0.04      ┆ -0.051357 │\n",
              "│          ┆ ep-5       ┆          ┆ 9T07:03:5 ┆   ┆           ┆ ': 59}    ┆           ┆           │\n",
              "│          ┆            ┆          ┆ 3Z        ┆   ┆           ┆           ┆           ┆           │\n",
              "└──────────┴────────────┴──────────┴───────────┴───┴───────────┴───────────┴───────────┴───────────┘"
            ]
          },
          "execution_count": 4,
          "metadata": {},
          "output_type": "execute_result"
        }
      ],
      "source": [
        "WANDB_ENTITY = \"juanbelieni-lab\"\n",
        "WANDB_PROJECT = \"watermark-spoof\"\n",
        "SWEEP_ID = \"phkoqagh\"\n",
        "\n",
        "# Fetch runs into a DataFrame\n",
        "runs_df = fetch_sweep_runs(WANDB_ENTITY, WANDB_PROJECT, SWEEP_ID)\n",
        "print(f'Loaded {len(runs_df)} runs from sweep.')\n",
        "runs_df.head()\n"
      ]
    },
    {
      "cell_type": "code",
      "execution_count": 5,
      "id": "9a62f48a",
      "metadata": {},
      "outputs": [
        {
          "data": {
            "text/html": [
              "\n",
              "<style>\n",
              "  #altair-viz-8a28ac34671041adbef13c0d1d03e68c.vega-embed {\n",
              "    width: 100%;\n",
              "    display: flex;\n",
              "  }\n",
              "\n",
              "  #altair-viz-8a28ac34671041adbef13c0d1d03e68c.vega-embed details,\n",
              "  #altair-viz-8a28ac34671041adbef13c0d1d03e68c.vega-embed details summary {\n",
              "    position: relative;\n",
              "  }\n",
              "</style>\n",
              "<div id=\"altair-viz-8a28ac34671041adbef13c0d1d03e68c\"></div>\n",
              "<script type=\"text/javascript\">\n",
              "  var VEGA_DEBUG = (typeof VEGA_DEBUG == \"undefined\") ? {} : VEGA_DEBUG;\n",
              "  (function(spec, embedOpt){\n",
              "    let outputDiv = document.currentScript.previousElementSibling;\n",
              "    if (outputDiv.id !== \"altair-viz-8a28ac34671041adbef13c0d1d03e68c\") {\n",
              "      outputDiv = document.getElementById(\"altair-viz-8a28ac34671041adbef13c0d1d03e68c\");\n",
              "    }\n",
              "\n",
              "    const paths = {\n",
              "      \"vega\": \"https://cdn.jsdelivr.net/npm/vega@5?noext\",\n",
              "      \"vega-lib\": \"https://cdn.jsdelivr.net/npm/vega-lib?noext\",\n",
              "      \"vega-lite\": \"https://cdn.jsdelivr.net/npm/vega-lite@5.20.1?noext\",\n",
              "      \"vega-embed\": \"https://cdn.jsdelivr.net/npm/vega-embed@6?noext\",\n",
              "    };\n",
              "\n",
              "    function maybeLoadScript(lib, version) {\n",
              "      var key = `${lib.replace(\"-\", \"\")}_version`;\n",
              "      return (VEGA_DEBUG[key] == version) ?\n",
              "        Promise.resolve(paths[lib]) :\n",
              "        new Promise(function(resolve, reject) {\n",
              "          var s = document.createElement('script');\n",
              "          document.getElementsByTagName(\"head\")[0].appendChild(s);\n",
              "          s.async = true;\n",
              "          s.onload = () => {\n",
              "            VEGA_DEBUG[key] = version;\n",
              "            return resolve(paths[lib]);\n",
              "          };\n",
              "          s.onerror = () => reject(`Error loading script: ${paths[lib]}`);\n",
              "          s.src = paths[lib];\n",
              "        });\n",
              "    }\n",
              "\n",
              "    function showError(err) {\n",
              "      outputDiv.innerHTML = `<div class=\"error\" style=\"color:red;\">${err}</div>`;\n",
              "      throw err;\n",
              "    }\n",
              "\n",
              "    function displayChart(vegaEmbed) {\n",
              "      vegaEmbed(outputDiv, spec, embedOpt)\n",
              "        .catch(err => showError(`Javascript Error: ${err.message}<br>This usually means there's a typo in your chart specification. See the javascript console for the full traceback.`));\n",
              "    }\n",
              "\n",
              "    if(typeof define === \"function\" && define.amd) {\n",
              "      requirejs.config({paths});\n",
              "      let deps = [\"vega-embed\"];\n",
              "      require(deps, displayChart, err => showError(`Error loading script: ${err.message}`));\n",
              "    } else {\n",
              "      maybeLoadScript(\"vega\", \"5\")\n",
              "        .then(() => maybeLoadScript(\"vega-lite\", \"5.20.1\"))\n",
              "        .then(() => maybeLoadScript(\"vega-embed\", \"6\"))\n",
              "        .catch(showError)\n",
              "        .then(() => displayChart(vegaEmbed));\n",
              "    }\n",
              "  })({\"config\": {\"view\": {\"continuousWidth\": 300, \"continuousHeight\": 300}}, \"data\": {\"name\": \"data-15a29f622a4153cc2a7c7204ee3355fe\"}, \"mark\": {\"type\": \"line\", \"interpolate\": \"monotone\"}, \"encoding\": {\"color\": {\"field\": \"delta_att\", \"title\": \"delta_att\", \"type\": \"nominal\"}, \"x\": {\"field\": \"limit_samples\", \"scale\": {\"type\": \"log\"}, \"type\": \"quantitative\"}, \"y\": {\"field\": \"success_rate\", \"type\": \"quantitative\"}}, \"$schema\": \"https://vega.github.io/schema/vega-lite/v5.20.1.json\", \"datasets\": {\"data-15a29f622a4153cc2a7c7204ee3355fe\": [{\"limit_samples\": 15, \"delta_att\": 2.5, \"success_rate\": 0.042, \"z_avg\": 0.00041357556882736234}, {\"limit_samples\": 30, \"delta_att\": 2.5, \"success_rate\": 0.028000000000000004, \"z_avg\": 0.018307393949427146}, {\"limit_samples\": 75, \"delta_att\": 2.5, \"success_rate\": 0.062, \"z_avg\": 0.08802657697210131}, {\"limit_samples\": 150, \"delta_att\": 2.5, \"success_rate\": 0.044000000000000004, \"z_avg\": 0.1140937436803215}, {\"limit_samples\": 300, \"delta_att\": 2.5, \"success_rate\": 0.07200000000000001, \"z_avg\": 0.18249089574498512}, {\"limit_samples\": 750, \"delta_att\": 2.5, \"success_rate\": 0.07, \"z_avg\": 0.23075228012653454}, {\"limit_samples\": 1500, \"delta_att\": 2.5, \"success_rate\": 0.07999999999999999, \"z_avg\": 0.38067885458602885}, {\"limit_samples\": 3000, \"delta_att\": 2.5, \"success_rate\": 0.10400000000000001, \"z_avg\": 0.5238992624800194}, {\"limit_samples\": 7500, \"delta_att\": 2.5, \"success_rate\": 0.138, \"z_avg\": 0.5792134589450231}, {\"limit_samples\": 15000, \"delta_att\": 2.5, \"success_rate\": 0.13, \"z_avg\": 0.66833357678381}, {\"limit_samples\": 30000, \"delta_att\": 2.5, \"success_rate\": 0.15, \"z_avg\": 0.6705888414288045}, {\"limit_samples\": 15, \"delta_att\": 5.0, \"success_rate\": 0.041999999999999996, \"z_avg\": 0.023806348951995775}, {\"limit_samples\": 30, \"delta_att\": 5.0, \"success_rate\": 0.057999999999999996, \"z_avg\": 0.113210877275472}, {\"limit_samples\": 75, \"delta_att\": 5.0, \"success_rate\": 0.057999999999999996, \"z_avg\": 0.17645898201990792}, {\"limit_samples\": 150, \"delta_att\": 5.0, \"success_rate\": 0.092, \"z_avg\": 0.320379328597835}, {\"limit_samples\": 300, \"delta_att\": 5.0, \"success_rate\": 0.118, \"z_avg\": 0.48917604706478957}, {\"limit_samples\": 750, \"delta_att\": 5.0, \"success_rate\": 0.20400000000000001, \"z_avg\": 0.9037906510497236}, {\"limit_samples\": 1500, \"delta_att\": 5.0, \"success_rate\": 0.244, \"z_avg\": 1.013968353050669}, {\"limit_samples\": 3000, \"delta_att\": 5.0, \"success_rate\": 0.304, \"z_avg\": 1.1866972941168903}, {\"limit_samples\": 7500, \"delta_att\": 5.0, \"success_rate\": 0.35800000000000004, \"z_avg\": 1.37045000376364}, {\"limit_samples\": 15000, \"delta_att\": 5.0, \"success_rate\": 0.314, \"z_avg\": 1.3282552285816298}, {\"limit_samples\": 30000, \"delta_att\": 5.0, \"success_rate\": 0.344, \"z_avg\": 1.27167973086936}, {\"limit_samples\": 15, \"delta_att\": 7.5, \"success_rate\": 0.022000000000000002, \"z_avg\": 0.0019603679025803956}, {\"limit_samples\": 30, \"delta_att\": 7.5, \"success_rate\": 0.128, \"z_avg\": 0.4104799625557053}, {\"limit_samples\": 75, \"delta_att\": 7.5, \"success_rate\": 0.13799999999999998, \"z_avg\": 0.13070767675617734}, {\"limit_samples\": 150, \"delta_att\": 7.5, \"success_rate\": 0.21000000000000002, \"z_avg\": 0.7091465592217785}, {\"limit_samples\": 300, \"delta_att\": 7.5, \"success_rate\": 0.31599999999999995, \"z_avg\": 1.2054972376054602}, {\"limit_samples\": 750, \"delta_att\": 7.5, \"success_rate\": 0.43000000000000005, \"z_avg\": 1.6037808825206732}, {\"limit_samples\": 1500, \"delta_att\": 7.5, \"success_rate\": 0.4720000000000001, \"z_avg\": 1.842023414697951}, {\"limit_samples\": 3000, \"delta_att\": 7.5, \"success_rate\": 0.48599999999999993, \"z_avg\": 1.831929824154131}, {\"limit_samples\": 7500, \"delta_att\": 7.5, \"success_rate\": 0.5279999999999999, \"z_avg\": 2.0825454010511657}, {\"limit_samples\": 15000, \"delta_att\": 7.5, \"success_rate\": 0.49799999999999994, \"z_avg\": 1.922804590801686}, {\"limit_samples\": 30000, \"delta_att\": 7.5, \"success_rate\": 0.458, \"z_avg\": 1.741687464302191}, {\"limit_samples\": 15, \"delta_att\": 10.0, \"success_rate\": 0.092, \"z_avg\": 0.2350770933459141}, {\"limit_samples\": 30, \"delta_att\": 10.0, \"success_rate\": 0.32200000000000006, \"z_avg\": 1.2711585397758016}, {\"limit_samples\": 75, \"delta_att\": 10.0, \"success_rate\": 0.33599999999999997, \"z_avg\": 0.6143499050790471}, {\"limit_samples\": 150, \"delta_att\": 10.0, \"success_rate\": 0.45600000000000007, \"z_avg\": 1.3618711560606658}, {\"limit_samples\": 300, \"delta_att\": 10.0, \"success_rate\": 0.558, \"z_avg\": 2.1978072955748718}, {\"limit_samples\": 750, \"delta_att\": 10.0, \"success_rate\": 0.6119999999999999, \"z_avg\": 2.4808774103475133}, {\"limit_samples\": 1500, \"delta_att\": 10.0, \"success_rate\": 0.666, \"z_avg\": 2.961030465289462}, {\"limit_samples\": 3000, \"delta_att\": 10.0, \"success_rate\": 0.6880000000000001, \"z_avg\": 2.8939452312622427}, {\"limit_samples\": 7500, \"delta_att\": 10.0, \"success_rate\": 0.66, \"z_avg\": 2.589100056494153}, {\"limit_samples\": 15000, \"delta_att\": 10.0, \"success_rate\": 0.608, \"z_avg\": 2.2307835995457923}, {\"limit_samples\": 30000, \"delta_att\": 10.0, \"success_rate\": 0.558, \"z_avg\": 2.138033372567417}]}}, {\"mode\": \"vega-lite\"});\n",
              "</script>"
            ],
            "text/plain": [
              "alt.Chart(...)"
            ]
          },
          "execution_count": 5,
          "metadata": {},
          "output_type": "execute_result"
        }
      ],
      "source": [
        "agg_df = (\n",
        "    runs_df\n",
        "    .with_columns((pl.col(\"limit_samples\") * 3).alias(\"limit_samples\"))\n",
        "    .group_by([\"limit_samples\", \"delta_att\"])\n",
        "    .agg(\n",
        "      pl.col(\"success_rate\").mean().alias(\"success_rate\"),\n",
        "      pl.col(\"z_avg\").mean().alias(\"z_avg\"),\n",
        "    )\n",
        "    .sort([\"delta_att\", \"limit_samples\"])\n",
        ")\n",
        "\n",
        "chart = alt.Chart(agg_df.to_pandas()).mark_line(interpolate=\"monotone\").encode(\n",
        "    x=alt.X(\"limit_samples\", type=\"quantitative\").scale(type=\"log\"),\n",
        "    y=alt.Y(\"success_rate\", type=\"quantitative\"),\n",
        "    color=alt.Color(\"delta_att\", type=\"nominal\", title=\"delta_att\"),\n",
        ")\n",
        "chart"
      ]
    },
    {
      "cell_type": "code",
      "execution_count": 6,
      "id": "ea1cdedb",
      "metadata": {},
      "outputs": [],
      "source": [
        "agg_df.write_csv(\"../web/graph_data_b0.csv\")"
      ]
    }
  ],
  "metadata": {
    "kernelspec": {
      "display_name": "watermark-stealing-replication",
      "language": "python",
      "name": "python3"
    },
    "language_info": {
      "codemirror_mode": {
        "name": "ipython",
        "version": 3
      },
      "file_extension": ".py",
      "mimetype": "text/x-python",
      "name": "python",
      "nbconvert_exporter": "python",
      "pygments_lexer": "ipython3",
      "version": "3.11.9"
    }
  },
  "nbformat": 4,
  "nbformat_minor": 5
}
