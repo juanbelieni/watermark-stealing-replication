{
  "cells": [
    {
      "cell_type": "markdown",
      "id": "f8316d6f",
      "metadata": {},
      "source": [
        "# Spoof Attack Analysis\n"
      ]
    },
    {
      "cell_type": "code",
      "execution_count": 1,
      "id": "902c4e47",
      "metadata": {},
      "outputs": [],
      "source": [
        "import re\n",
        "from typing import Dict, Any\n",
        "\n",
        "import wandb\n",
        "import polars as pl\n",
        "import altair as alt"
      ]
    },
    {
      "cell_type": "code",
      "execution_count": 2,
      "id": "84442021",
      "metadata": {},
      "outputs": [],
      "source": [
        "def parse_sweep_url(url: str):\n",
        "    m = re.search(r'wandb\\.ai/([^/]+)/([^/]+)/sweeps/([a-z0-9]+)', url)\n",
        "    if not m:\n",
        "        raise ValueError('Unrecognized sweep URL; expected .../ENTITY/PROJECT/sweeps/ID')\n",
        "    return m.group(1), m.group(2), m.group(3)\n",
        "\n",
        "def fetch_sweep_runs(entity: str, project: str, sweep_id: str) -> pl.DataFrame:\n",
        "    \"\"\"\n",
        "    Returns a DataFrame where each row is a run.\n",
        "    Columns include run metadata plus flattened `config.*` and `summary.*` fields.\n",
        "    \"\"\"\n",
        "\n",
        "    api = wandb.Api(timeout=300)\n",
        "    sw = api.sweep(f'{entity}/{project}/{sweep_id}')\n",
        "    runs = list(sw.runs)\n",
        "    records = []\n",
        "    for r in runs:\n",
        "        cfg: Dict[str, Any] = dict(getattr(r, 'config', {}) or {})\n",
        "        summ: Dict[str, Any] = dict(getattr(r, 'summary', {}) or {})\n",
        "        rec: Dict[str, Any] = {\n",
        "            'run_id': getattr(r, 'id', None),\n",
        "            'run_name': getattr(r, 'name', None),\n",
        "            'state': getattr(r, 'state', None),\n",
        "            'created_at': str(getattr(r, 'created_at', '')),\n",
        "            'entity': entity,\n",
        "            'project': project,\n",
        "            'sweep_id': sweep_id,\n",
        "        }\n",
        "\n",
        "        items = [*cfg.items(), *summ.items()]\n",
        "\n",
        "        for k, v in items:\n",
        "            rec[k] = v\n",
        "\n",
        "        records.append(rec)\n",
        "    df = pl.DataFrame(records)\n",
        "    return df\n"
      ]
    },
    {
      "cell_type": "code",
      "execution_count": 18,
      "id": "d3d9e146",
      "metadata": {},
      "outputs": [
        {
          "name": "stdout",
          "output_type": "stream",
          "text": [
            "Loaded 220 runs from sweep.\n"
          ]
        },
        {
          "data": {
            "text/html": [
              "<div><style>\n",
              ".dataframe > thead > tr,\n",
              ".dataframe > tbody > tr {\n",
              "  text-align: right;\n",
              "  white-space: pre-wrap;\n",
              "}\n",
              "</style>\n",
              "<small>shape: (5, 21)</small><table border=\"1\" class=\"dataframe\"><thead><tr><th>run_id</th><th>run_name</th><th>state</th><th>created_at</th><th>entity</th><th>project</th><th>sweep_id</th><th>seed</th><th>clip_c</th><th>model_id</th><th>delta_att</th><th>num_prompts</th><th>window_size</th><th>limit_samples</th><th>max_new_tokens</th><th>_runtime</th><th>_step</th><th>_timestamp</th><th>_wandb</th><th>success_rate</th><th>z_avg</th></tr><tr><td>str</td><td>str</td><td>str</td><td>str</td><td>str</td><td>str</td><td>str</td><td>i64</td><td>i64</td><td>str</td><td>f64</td><td>i64</td><td>i64</td><td>i64</td><td>i64</td><td>i64</td><td>i64</td><td>f64</td><td>object</td><td>f64</td><td>f64</td></tr></thead><tbody><tr><td>&quot;s703d22t&quot;</td><td>&quot;bumbling-sweep-1&quot;</td><td>&quot;finished&quot;</td><td>&quot;2025-08-28T10:33:30Z&quot;</td><td>&quot;juanbelieni-lab&quot;</td><td>&quot;watermark-spoof&quot;</td><td>&quot;cijomih4&quot;</td><td>0</td><td>2</td><td>&quot;meta-llama/Llama-3.2-3B-Instru…</td><td>2.5</td><td>100</td><td>2</td><td>5</td><td>500</td><td>76</td><td>0</td><td>1.7564e9</td><td>{&#x27;runtime&#x27;: 76}</td><td>0.07</td><td>0.127953</td></tr><tr><td>&quot;k9xv1jar&quot;</td><td>&quot;generous-sweep-2&quot;</td><td>&quot;finished&quot;</td><td>&quot;2025-08-28T10:34:53Z&quot;</td><td>&quot;juanbelieni-lab&quot;</td><td>&quot;watermark-spoof&quot;</td><td>&quot;cijomih4&quot;</td><td>1</td><td>2</td><td>&quot;meta-llama/Llama-3.2-3B-Instru…</td><td>2.5</td><td>100</td><td>2</td><td>5</td><td>500</td><td>75</td><td>0</td><td>1.7564e9</td><td>{&#x27;runtime&#x27;: 75}</td><td>0.06</td><td>0.11922</td></tr><tr><td>&quot;lafcv9di&quot;</td><td>&quot;icy-sweep-3&quot;</td><td>&quot;finished&quot;</td><td>&quot;2025-08-28T10:36:16Z&quot;</td><td>&quot;juanbelieni-lab&quot;</td><td>&quot;watermark-spoof&quot;</td><td>&quot;cijomih4&quot;</td><td>2</td><td>2</td><td>&quot;meta-llama/Llama-3.2-3B-Instru…</td><td>2.5</td><td>100</td><td>2</td><td>5</td><td>500</td><td>75</td><td>0</td><td>1.7564e9</td><td>{&#x27;runtime&#x27;: 75}</td><td>0.08</td><td>0.091219</td></tr><tr><td>&quot;hcgblzi4&quot;</td><td>&quot;skilled-sweep-4&quot;</td><td>&quot;finished&quot;</td><td>&quot;2025-08-28T10:37:39Z&quot;</td><td>&quot;juanbelieni-lab&quot;</td><td>&quot;watermark-spoof&quot;</td><td>&quot;cijomih4&quot;</td><td>3</td><td>2</td><td>&quot;meta-llama/Llama-3.2-3B-Instru…</td><td>2.5</td><td>100</td><td>2</td><td>5</td><td>500</td><td>77</td><td>0</td><td>1.7564e9</td><td>{&#x27;runtime&#x27;: 77}</td><td>0.03</td><td>0.056921</td></tr><tr><td>&quot;49prz5rs&quot;</td><td>&quot;trim-sweep-5&quot;</td><td>&quot;finished&quot;</td><td>&quot;2025-08-28T10:39:07Z&quot;</td><td>&quot;juanbelieni-lab&quot;</td><td>&quot;watermark-spoof&quot;</td><td>&quot;cijomih4&quot;</td><td>4</td><td>2</td><td>&quot;meta-llama/Llama-3.2-3B-Instru…</td><td>2.5</td><td>100</td><td>2</td><td>5</td><td>500</td><td>77</td><td>0</td><td>1.7564e9</td><td>{&#x27;runtime&#x27;: 77}</td><td>0.06</td><td>0.030289</td></tr></tbody></table></div>"
            ],
            "text/plain": [
              "shape: (5, 21)\n",
              "┌──────────┬────────────┬──────────┬────────────┬───┬───────────┬───────────┬───────────┬──────────┐\n",
              "│ run_id   ┆ run_name   ┆ state    ┆ created_at ┆ … ┆ _timestam ┆ _wandb    ┆ success_r ┆ z_avg    │\n",
              "│ ---      ┆ ---        ┆ ---      ┆ ---        ┆   ┆ p         ┆ ---       ┆ ate       ┆ ---      │\n",
              "│ str      ┆ str        ┆ str      ┆ str        ┆   ┆ ---       ┆ object    ┆ ---       ┆ f64      │\n",
              "│          ┆            ┆          ┆            ┆   ┆ f64       ┆           ┆ f64       ┆          │\n",
              "╞══════════╪════════════╪══════════╪════════════╪═══╪═══════════╪═══════════╪═══════════╪══════════╡\n",
              "│ s703d22t ┆ bumbling-s ┆ finished ┆ 2025-08-28 ┆ … ┆ 1.7564e9  ┆ {'runtime ┆ 0.07      ┆ 0.127953 │\n",
              "│          ┆ weep-1     ┆          ┆ T10:33:30Z ┆   ┆           ┆ ': 76}    ┆           ┆          │\n",
              "│ k9xv1jar ┆ generous-s ┆ finished ┆ 2025-08-28 ┆ … ┆ 1.7564e9  ┆ {'runtime ┆ 0.06      ┆ 0.11922  │\n",
              "│          ┆ weep-2     ┆          ┆ T10:34:53Z ┆   ┆           ┆ ': 75}    ┆           ┆          │\n",
              "│ lafcv9di ┆ icy-sweep- ┆ finished ┆ 2025-08-28 ┆ … ┆ 1.7564e9  ┆ {'runtime ┆ 0.08      ┆ 0.091219 │\n",
              "│          ┆ 3          ┆          ┆ T10:36:16Z ┆   ┆           ┆ ': 75}    ┆           ┆          │\n",
              "│ hcgblzi4 ┆ skilled-sw ┆ finished ┆ 2025-08-28 ┆ … ┆ 1.7564e9  ┆ {'runtime ┆ 0.03      ┆ 0.056921 │\n",
              "│          ┆ eep-4      ┆          ┆ T10:37:39Z ┆   ┆           ┆ ': 77}    ┆           ┆          │\n",
              "│ 49prz5rs ┆ trim-sweep ┆ finished ┆ 2025-08-28 ┆ … ┆ 1.7564e9  ┆ {'runtime ┆ 0.06      ┆ 0.030289 │\n",
              "│          ┆ -5         ┆          ┆ T10:39:07Z ┆   ┆           ┆ ': 77}    ┆           ┆          │\n",
              "└──────────┴────────────┴──────────┴────────────┴───┴───────────┴───────────┴───────────┴──────────┘"
            ]
          },
          "execution_count": 18,
          "metadata": {},
          "output_type": "execute_result"
        }
      ],
      "source": [
        "WANDB_ENTITY = \"juanbelieni-lab\"\n",
        "WANDB_PROJECT = \"watermark-spoof\"\n",
        "SWEEP_ID = \"cijomih4\"\n",
        "\n",
        "# Fetch runs into a DataFrame\n",
        "runs_df = fetch_sweep_runs(WANDB_ENTITY, WANDB_PROJECT, SWEEP_ID)\n",
        "print(f'Loaded {len(runs_df)} runs from sweep.')\n",
        "runs_df.head()\n"
      ]
    },
    {
      "cell_type": "code",
      "execution_count": 21,
      "id": "9a62f48a",
      "metadata": {},
      "outputs": [
        {
          "data": {
            "text/html": [
              "\n",
              "<style>\n",
              "  #altair-viz-965cb1f99e494ada9158161fad08a724.vega-embed {\n",
              "    width: 100%;\n",
              "    display: flex;\n",
              "  }\n",
              "\n",
              "  #altair-viz-965cb1f99e494ada9158161fad08a724.vega-embed details,\n",
              "  #altair-viz-965cb1f99e494ada9158161fad08a724.vega-embed details summary {\n",
              "    position: relative;\n",
              "  }\n",
              "</style>\n",
              "<div id=\"altair-viz-965cb1f99e494ada9158161fad08a724\"></div>\n",
              "<script type=\"text/javascript\">\n",
              "  var VEGA_DEBUG = (typeof VEGA_DEBUG == \"undefined\") ? {} : VEGA_DEBUG;\n",
              "  (function(spec, embedOpt){\n",
              "    let outputDiv = document.currentScript.previousElementSibling;\n",
              "    if (outputDiv.id !== \"altair-viz-965cb1f99e494ada9158161fad08a724\") {\n",
              "      outputDiv = document.getElementById(\"altair-viz-965cb1f99e494ada9158161fad08a724\");\n",
              "    }\n",
              "\n",
              "    const paths = {\n",
              "      \"vega\": \"https://cdn.jsdelivr.net/npm/vega@5?noext\",\n",
              "      \"vega-lib\": \"https://cdn.jsdelivr.net/npm/vega-lib?noext\",\n",
              "      \"vega-lite\": \"https://cdn.jsdelivr.net/npm/vega-lite@5.20.1?noext\",\n",
              "      \"vega-embed\": \"https://cdn.jsdelivr.net/npm/vega-embed@6?noext\",\n",
              "    };\n",
              "\n",
              "    function maybeLoadScript(lib, version) {\n",
              "      var key = `${lib.replace(\"-\", \"\")}_version`;\n",
              "      return (VEGA_DEBUG[key] == version) ?\n",
              "        Promise.resolve(paths[lib]) :\n",
              "        new Promise(function(resolve, reject) {\n",
              "          var s = document.createElement('script');\n",
              "          document.getElementsByTagName(\"head\")[0].appendChild(s);\n",
              "          s.async = true;\n",
              "          s.onload = () => {\n",
              "            VEGA_DEBUG[key] = version;\n",
              "            return resolve(paths[lib]);\n",
              "          };\n",
              "          s.onerror = () => reject(`Error loading script: ${paths[lib]}`);\n",
              "          s.src = paths[lib];\n",
              "        });\n",
              "    }\n",
              "\n",
              "    function showError(err) {\n",
              "      outputDiv.innerHTML = `<div class=\"error\" style=\"color:red;\">${err}</div>`;\n",
              "      throw err;\n",
              "    }\n",
              "\n",
              "    function displayChart(vegaEmbed) {\n",
              "      vegaEmbed(outputDiv, spec, embedOpt)\n",
              "        .catch(err => showError(`Javascript Error: ${err.message}<br>This usually means there's a typo in your chart specification. See the javascript console for the full traceback.`));\n",
              "    }\n",
              "\n",
              "    if(typeof define === \"function\" && define.amd) {\n",
              "      requirejs.config({paths});\n",
              "      let deps = [\"vega-embed\"];\n",
              "      require(deps, displayChart, err => showError(`Error loading script: ${err.message}`));\n",
              "    } else {\n",
              "      maybeLoadScript(\"vega\", \"5\")\n",
              "        .then(() => maybeLoadScript(\"vega-lite\", \"5.20.1\"))\n",
              "        .then(() => maybeLoadScript(\"vega-embed\", \"6\"))\n",
              "        .catch(showError)\n",
              "        .then(() => displayChart(vegaEmbed));\n",
              "    }\n",
              "  })({\"config\": {\"view\": {\"continuousWidth\": 300, \"continuousHeight\": 300}}, \"data\": {\"name\": \"data-4e212f9be33fa0a5edf50a845e915a7f\"}, \"mark\": {\"type\": \"line\", \"interpolate\": \"monotone\"}, \"encoding\": {\"color\": {\"field\": \"delta_att\", \"title\": \"delta_att\", \"type\": \"nominal\"}, \"x\": {\"field\": \"limit_samples\", \"scale\": {\"type\": \"log\"}, \"type\": \"quantitative\"}, \"y\": {\"field\": \"success_rate\", \"type\": \"quantitative\"}}, \"$schema\": \"https://vega.github.io/schema/vega-lite/v5.20.1.json\", \"datasets\": {\"data-4e212f9be33fa0a5edf50a845e915a7f\": [{\"limit_samples\": 15, \"delta_att\": 2.5, \"success_rate\": 0.06000000000000001, \"z_avg\": 0.08512062286328928}, {\"limit_samples\": 30, \"delta_att\": 2.5, \"success_rate\": 0.05600000000000001, \"z_avg\": 0.08190963583673674}, {\"limit_samples\": 75, \"delta_att\": 2.5, \"success_rate\": 0.066, \"z_avg\": 0.09601290881888838}, {\"limit_samples\": 150, \"delta_att\": 2.5, \"success_rate\": 0.07, \"z_avg\": 0.14948705588682937}, {\"limit_samples\": 300, \"delta_att\": 2.5, \"success_rate\": 0.07, \"z_avg\": 0.24693492850724433}, {\"limit_samples\": 750, \"delta_att\": 2.5, \"success_rate\": 0.074, \"z_avg\": 0.2910478682339666}, {\"limit_samples\": 1500, \"delta_att\": 2.5, \"success_rate\": 0.1, \"z_avg\": 0.35983282249309256}, {\"limit_samples\": 3000, \"delta_att\": 2.5, \"success_rate\": 0.096, \"z_avg\": 0.40639876231423483}, {\"limit_samples\": 7500, \"delta_att\": 2.5, \"success_rate\": 0.134, \"z_avg\": 0.5336833907835222}, {\"limit_samples\": 15000, \"delta_att\": 2.5, \"success_rate\": 0.122, \"z_avg\": 0.507897093402908}, {\"limit_samples\": 30000, \"delta_att\": 2.5, \"success_rate\": 0.132, \"z_avg\": 0.6472870682058918}, {\"limit_samples\": 15, \"delta_att\": 5.0, \"success_rate\": 0.076, \"z_avg\": 0.17281801025386856}, {\"limit_samples\": 30, \"delta_att\": 5.0, \"success_rate\": 0.06600000000000002, \"z_avg\": 0.1737105371185354}, {\"limit_samples\": 75, \"delta_att\": 5.0, \"success_rate\": 0.088, \"z_avg\": 0.28502560915498115}, {\"limit_samples\": 150, \"delta_att\": 5.0, \"success_rate\": 0.11200000000000002, \"z_avg\": 0.4148198728084922}, {\"limit_samples\": 300, \"delta_att\": 5.0, \"success_rate\": 0.11599999999999999, \"z_avg\": 0.4993243189784821}, {\"limit_samples\": 750, \"delta_att\": 5.0, \"success_rate\": 0.134, \"z_avg\": 0.6369390575168377}, {\"limit_samples\": 1500, \"delta_att\": 5.0, \"success_rate\": 0.20399999999999996, \"z_avg\": 0.857022059454979}, {\"limit_samples\": 3000, \"delta_att\": 5.0, \"success_rate\": 0.25, \"z_avg\": 1.0125221228769778}, {\"limit_samples\": 7500, \"delta_att\": 5.0, \"success_rate\": 0.26, \"z_avg\": 1.1451374694032768}, {\"limit_samples\": 15000, \"delta_att\": 5.0, \"success_rate\": 0.264, \"z_avg\": 1.1496737731279565}, {\"limit_samples\": 30000, \"delta_att\": 5.0, \"success_rate\": 0.268, \"z_avg\": 1.2300019299798681}, {\"limit_samples\": 15, \"delta_att\": 7.5, \"success_rate\": 0.06399999999999999, \"z_avg\": 0.14118269945785897}, {\"limit_samples\": 30, \"delta_att\": 7.5, \"success_rate\": 0.09999999999999999, \"z_avg\": 0.43215681764974806}, {\"limit_samples\": 75, \"delta_att\": 7.5, \"success_rate\": 0.178, \"z_avg\": 0.7479487103185299}, {\"limit_samples\": 150, \"delta_att\": 7.5, \"success_rate\": 0.21000000000000002, \"z_avg\": 1.0444276062986964}, {\"limit_samples\": 300, \"delta_att\": 7.5, \"success_rate\": 0.35600000000000004, \"z_avg\": 1.640913595425107}, {\"limit_samples\": 750, \"delta_att\": 7.5, \"success_rate\": 0.39200000000000007, \"z_avg\": 1.7018931266504065}, {\"limit_samples\": 1500, \"delta_att\": 7.5, \"success_rate\": 0.45599999999999996, \"z_avg\": 1.6803651171576834}, {\"limit_samples\": 3000, \"delta_att\": 7.5, \"success_rate\": 0.546, \"z_avg\": 2.32017954985054}, {\"limit_samples\": 7500, \"delta_att\": 7.5, \"success_rate\": 0.558, \"z_avg\": 2.211370073784234}, {\"limit_samples\": 15000, \"delta_att\": 7.5, \"success_rate\": 0.5120000000000001, \"z_avg\": 2.0326861342407017}, {\"limit_samples\": 30000, \"delta_att\": 7.5, \"success_rate\": 0.508, \"z_avg\": 1.9223564098065864}, {\"limit_samples\": 15, \"delta_att\": 10.0, \"success_rate\": 0.14600000000000002, \"z_avg\": 0.38528831859526436}, {\"limit_samples\": 30, \"delta_att\": 10.0, \"success_rate\": 0.346, \"z_avg\": 1.6766579956244787}, {\"limit_samples\": 75, \"delta_att\": 10.0, \"success_rate\": 0.388, \"z_avg\": 1.8829029869885645}, {\"limit_samples\": 150, \"delta_att\": 10.0, \"success_rate\": 0.502, \"z_avg\": 2.6938141765611596}, {\"limit_samples\": 300, \"delta_att\": 10.0, \"success_rate\": 0.5740000000000001, \"z_avg\": 3.0222040950405455}, {\"limit_samples\": 750, \"delta_att\": 10.0, \"success_rate\": 0.606, \"z_avg\": 2.8523771640451057}, {\"limit_samples\": 1500, \"delta_att\": 10.0, \"success_rate\": 0.664, \"z_avg\": 3.0589224785744795}, {\"limit_samples\": 3000, \"delta_att\": 10.0, \"success_rate\": 0.67, \"z_avg\": 3.1111331533135087}, {\"limit_samples\": 7500, \"delta_att\": 10.0, \"success_rate\": 0.698, \"z_avg\": 2.864927874044284}, {\"limit_samples\": 15000, \"delta_att\": 10.0, \"success_rate\": 0.672, \"z_avg\": 2.7073510900698965}, {\"limit_samples\": 30000, \"delta_att\": 10.0, \"success_rate\": 0.6066666666666666, \"z_avg\": 2.3863925167660143}]}}, {\"mode\": \"vega-lite\"});\n",
              "</script>"
            ],
            "text/plain": [
              "alt.Chart(...)"
            ]
          },
          "execution_count": 21,
          "metadata": {},
          "output_type": "execute_result"
        }
      ],
      "source": [
        "agg_df = (\n",
        "    runs_df\n",
        "    .with_columns((pl.col(\"limit_samples\") * 3).alias(\"limit_samples\"))\n",
        "    .group_by([\"limit_samples\", \"delta_att\"])\n",
        "    .agg(\n",
        "      pl.col(\"success_rate\").mean().alias(\"success_rate\"),\n",
        "      pl.col(\"z_avg\").mean().alias(\"z_avg\"),\n",
        "    )\n",
        "    .sort([\"delta_att\", \"limit_samples\"])\n",
        ")\n",
        "\n",
        "chart = alt.Chart(agg_df.to_pandas()).mark_line(interpolate=\"monotone\").encode(\n",
        "    x=alt.X(\"limit_samples\", type=\"quantitative\").scale(type=\"log\"),\n",
        "    y=alt.Y(\"success_rate\", type=\"quantitative\"),\n",
        "    color=alt.Color(\"delta_att\", type=\"nominal\", title=\"delta_att\"),\n",
        ")\n",
        "chart"
      ]
    },
    {
      "cell_type": "code",
      "execution_count": null,
      "id": "ea1cdedb",
      "metadata": {},
      "outputs": [],
      "source": [
        "agg_df.write_csv(\"../web/graph_data.csv\")"
      ]
    }
  ],
  "metadata": {
    "kernelspec": {
      "display_name": "watermark-stealing-replication",
      "language": "python",
      "name": "python3"
    },
    "language_info": {
      "codemirror_mode": {
        "name": "ipython",
        "version": 3
      },
      "file_extension": ".py",
      "mimetype": "text/x-python",
      "name": "python",
      "nbconvert_exporter": "python",
      "pygments_lexer": "ipython3",
      "version": "3.11.9"
    }
  },
  "nbformat": 4,
  "nbformat_minor": 5
}
